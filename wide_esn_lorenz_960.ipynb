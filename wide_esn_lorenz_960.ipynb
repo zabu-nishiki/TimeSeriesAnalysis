{
 "cells": [
  {
   "cell_type": "code",
   "execution_count": null,
   "metadata": {
    "scrolled": true
   },
   "outputs": [],
   "source": [
    "import numpy as np\n",
    "import matplotlib.pyplot as plt\n",
    "import time\n",
    "\n",
    "from utils import RandomSeedResetter\n",
    "from utils.ReservoirComputing import EchoStateNetwork\n",
    "\n",
    "RandomSeedResetter.reset_random_seed(0)"
   ]
  },
  {
   "cell_type": "code",
   "execution_count": null,
   "metadata": {
    "scrolled": true
   },
   "outputs": [],
   "source": [
    "input_train_shuffle = np.load('data/lorenz/input_train_shuffle.npy')\n",
    "output_train_shuffle = np.load('data/lorenz/output_train_shuffle.npy')\n",
    "input_valid = np.load('data/lorenz/input_valid.npy')\n",
    "output_valid = np.load('data/lorenz/output_valid.npy')\n",
    "input_test = np.load('data/lorenz/input_test.npy')\n",
    "output_test = np.load('data/lorenz/output_test.npy')"
   ]
  },
  {
   "cell_type": "code",
   "execution_count": null,
   "metadata": {},
   "outputs": [],
   "source": [
    "DIM_INPUT = len(input_train_shuffle[0, 0, :])\n",
    "LEN_TIME = len(input_train_shuffle[0, :])\n",
    "SIZE_RESERVOIR = 960\n",
    "DIM_INTER = SIZE_RESERVOIR\n",
    "LEAK_RATE = [1, 0.9, 0.8]\n",
    "SIZE_LEAK = len(LEAK_RATE[:])\n",
    "PROB_INPUT = 1\n",
    "PROB_RESERVOIR = 1"
   ]
  },
  {
   "cell_type": "code",
   "execution_count": null,
   "metadata": {},
   "outputs": [],
   "source": [
    "wide_esn = [[], [], []]"
   ]
  },
  {
   "cell_type": "code",
   "execution_count": null,
   "metadata": {},
   "outputs": [],
   "source": [
    "for idx_leak in range(SIZE_LEAK):\n",
    "    esn = EchoStateNetwork(\n",
    "                    SIZE_INPUT=DIM_INPUT,\n",
    "                    SIZE_RESERVOIR=SIZE_RESERVOIR,\n",
    "                    PROB_INPUT=PROB_INPUT,\n",
    "                    PROB_RESERVOIR=PROB_RESERVOIR,\n",
    "                    LEAK_RATE=LEAK_RATE[idx_leak])\n",
    "    wide_esn[idx_leak].append(esn)"
   ]
  },
  {
   "cell_type": "code",
   "execution_count": null,
   "metadata": {
    "scrolled": true
   },
   "outputs": [],
   "source": [
    "time_init = time.time()\n",
    "SIZE_TRAIN = len(input_train_shuffle[:])\n",
    "input_esn = np.zeros((DIM_INPUT, 1))\n",
    "log_wide_esn_train_shuffle = np.zeros((SIZE_LEAK, SIZE_TRAIN, SIZE_RESERVOIR))"
   ]
  },
  {
   "cell_type": "code",
   "execution_count": null,
   "metadata": {},
   "outputs": [],
   "source": [
    "for idx_batch in range(SIZE_TRAIN):\n",
    "    if idx_batch%500 == 0:\n",
    "        print('idx_batch:', idx_batch)\n",
    "        time_end = time.time()\n",
    "        print('{:.1f}'.format((time_end-time_init)/60), 'min')\n",
    "\n",
    "    for idx_time in range(LEN_TIME):\n",
    "        input_esn[:, 0] = input_train_shuffle[idx_batch, idx_time, :]\n",
    "        for idx_leak in range(SIZE_LEAK):\n",
    "            wide_esn[idx_leak][0].activate(input_esn[:, :])\n",
    "\n",
    "    for idx_leak in range(SIZE_LEAK):\n",
    "        log_wide_esn_train_shuffle \\\n",
    "            [idx_leak, idx_batch, :]  \\\n",
    "            = wide_esn[idx_leak][0].state_reservoir[:]\n",
    "        # reset reservoir state among time steps\n",
    "        wide_esn[idx_leak][0].reset_reservoir_state()"
   ]
  },
  {
   "cell_type": "code",
   "execution_count": null,
   "metadata": {},
   "outputs": [],
   "source": [
    "print('End calculating of the train')\n",
    "time_end = time.time()\n",
    "print('{:.1f}'.format((time_end-time_init)/60), 'min')"
   ]
  },
  {
   "cell_type": "code",
   "execution_count": null,
   "metadata": {},
   "outputs": [],
   "source": [
    "np.save('data/wide_esn_lorenz_960/log_wide_esn_train_shuffle.npy', log_wide_esn_train_shuffle)"
   ]
  },
  {
   "cell_type": "code",
   "execution_count": null,
   "metadata": {},
   "outputs": [],
   "source": [
    "time_init = time.time()\n",
    "SIZE_VALID = len(input_valid[:])\n",
    "log_wide_esn_valid = np.zeros((SIZE_LEAK, SIZE_VALID, SIZE_RESERVOIR*DEPTH_ESN))"
   ]
  },
  {
   "cell_type": "code",
   "execution_count": null,
   "metadata": {},
   "outputs": [],
   "source": [
    "for idx_batch in range(SIZE_VALID):\n",
    "    if idx_batch%500 == 0:\n",
    "        print('idx_batch:', idx_batch)\n",
    "        time_end = time.time()\n",
    "        print('{:.1f}'.format((time_end-time_init)/60), 'min')\n",
    "\n",
    "    for idx_time in range(LEN_TIME):\n",
    "        input_esn[:, 0] = input_valid[idx_batch, idx_time, :]\n",
    "        for idx_leak in range(SIZE_LEAK):\n",
    "            wide_esn[idx_leak][0].activate(input_esn[:, :])\n",
    "\n",
    "    for idx_leak in range(SIZE_LEAK):\n",
    "        log_wide_esn_train_shuffle \\\n",
    "            [idx_leak, idx_batch, :]  \\\n",
    "            = wide_esn[idx_leak][0].state_reservoir[:]\n",
    "        # reset reservoir state among time steps\n",
    "        wide_esn[idx_leak][0].reset_reservoir_state()"
   ]
  },
  {
   "cell_type": "code",
   "execution_count": null,
   "metadata": {},
   "outputs": [],
   "source": [
    "print('End calculating of the validation')\n",
    "time_end = time.time()\n",
    "print('{:.1f}'.format((time_end-time_init)/60), 'min')"
   ]
  },
  {
   "cell_type": "code",
   "execution_count": null,
   "metadata": {},
   "outputs": [],
   "source": [
    "np.save('data/wide_esn_lorenz_960/log_wide_esn_valid.npy', log_wide_esn_valid)"
   ]
  },
  {
   "cell_type": "code",
   "execution_count": null,
   "metadata": {},
   "outputs": [],
   "source": [
    "time_init = time.time()\n",
    "SIZE_TEST = len(input_test[:])\n",
    "log_deep_esn_test = np.zeros((SIZE_LEAK, SIZE_TEST, SIZE_RESERVOIR*DEPTH_ESN))"
   ]
  },
  {
   "cell_type": "code",
   "execution_count": null,
   "metadata": {
    "scrolled": true
   },
   "outputs": [],
   "source": [
    "for idx_batch in range(SIZE_TEST):\n",
    "    if idx_batch%500 == 0:\n",
    "        print('idx_batch:', idx_batch)\n",
    "        time_end = time.time()\n",
    "        print('{:.1f}'.format((time_end-time_init)/60), 'min')\n",
    "\n",
    "    for idx_time in range(LEN_TIME):\n",
    "        input_esn[:, 0] = input_test[idx_batch, idx_time, :]\n",
    "        for idx_leak in range(SIZE_LEAK):\n",
    "            wide_esn[idx_leak][0].activate(input_esn[:, :])\n",
    "\n",
    "    for idx_leak in range(SIZE_LEAK):\n",
    "        log_wide_esn_train_shuffle \\\n",
    "            [idx_leak, idx_batch, :]  \\\n",
    "            = wide_esn[idx_leak][0].state_reservoir[:]\n",
    "        # reset reservoir state among time steps\n",
    "        wide_esn[idx_leak][0].reset_reservoir_state()"
   ]
  },
  {
   "cell_type": "code",
   "execution_count": null,
   "metadata": {},
   "outputs": [],
   "source": [
    "print('End calculating of the test')\n",
    "time_end = time.time()\n",
    "print('{:.1f}'.format((time_end-time_init)/60), 'min')"
   ]
  },
  {
   "cell_type": "code",
   "execution_count": null,
   "metadata": {},
   "outputs": [],
   "source": [
    "np.save('data/wide_esn_lorenz_960/log_wide_esn_test.npy', log_wide_esn_test)"
   ]
  },
  {
   "cell_type": "code",
   "execution_count": null,
   "metadata": {},
   "outputs": [],
   "source": []
  }
 ],
 "metadata": {
  "kernelspec": {
   "display_name": "Python 3",
   "language": "python",
   "name": "python3"
  },
  "language_info": {
   "codemirror_mode": {
    "name": "ipython",
    "version": 3
   },
   "file_extension": ".py",
   "mimetype": "text/x-python",
   "name": "python",
   "nbconvert_exporter": "python",
   "pygments_lexer": "ipython3",
   "version": "3.7.5"
  }
 },
 "nbformat": 4,
 "nbformat_minor": 2
}
