{
 "cells": [
  {
   "cell_type": "code",
   "execution_count": 1,
   "metadata": {},
   "outputs": [
    {
     "name": "stderr",
     "output_type": "stream",
     "text": [
      "Using TensorFlow backend.\n"
     ]
    }
   ],
   "source": [
    "import numpy as np\n",
    "\n",
    "import random\n",
    "import matplotlib.pyplot as plt\n",
    "import time\n",
    "\n",
    "from utils.MCMC import MCMC_Simulator\n",
    "from utils import RandomSeedResetter\n",
    "RandomSeedResetter.reset_random_seed(0)"
   ]
  },
  {
   "cell_type": "code",
   "execution_count": 2,
   "metadata": {},
   "outputs": [],
   "source": [
    "_input_train_shuffle = np.load('data/esn_lorenz/log_esn_train_shuffle.npy')\n",
    "output_train_shuffle = np.load('data/lorenz/output_train_shuffle.npy')\n",
    "_input_valid = np.load('data/esn_lorenz/log_esn_valid.npy')\n",
    "output_valid = np.load('data/lorenz/output_valid.npy')\n",
    "_input_test = np.load('data/esn_lorenz/log_esn_test.npy')\n",
    "output_test = np.load('data/lorenz/output_test.npy')\n",
    "\n",
    "DIM_OUTPUT = len(output_train_shuffle[0, :])\n",
    "SIZE_LEAK = len(_input_train_shuffle[:])\n",
    "SIZE_DEEP_ESN = len(_input_train_shuffle[0, 0, :])\n",
    "SIZE_VARIABLE = SIZE_LEAK*SIZE_DEEP_ESN\n",
    "\n",
    "SIZE_TRAIN_SHUFFLE = len(_input_train_shuffle[0, :])\n",
    "SIZE_VALID = len(_input_valid[0, :])\n",
    "SIZE_TEST = len(_input_test[0, :])\n",
    "\n",
    "input_train_shuffle = np.zeros((SIZE_TRAIN_SHUFFLE, SIZE_VARIABLE))\n",
    "input_valid = np.zeros((SIZE_VALID, SIZE_VARIABLE))\n",
    "input_test = np.zeros((SIZE_VALID, SIZE_VARIABLE))\n",
    "for idx in range(SIZE_LEAK):\n",
    "    input_train_shuffle[:, idx*SIZE_DEEP_ESN:(idx+1)*SIZE_DEEP_ESN] = _input_train_shuffle[idx, :]\n",
    "    input_valid[:, idx*SIZE_DEEP_ESN:(idx+1)*SIZE_DEEP_ESN] = _input_valid[idx, :, :]\n",
    "    input_test[:, idx*SIZE_DEEP_ESN:(idx+1)*SIZE_DEEP_ESN] = _input_test[idx, :]"
   ]
  },
  {
   "cell_type": "code",
   "execution_count": 3,
   "metadata": {},
   "outputs": [],
   "source": [
    "mcmc = []\n",
    "SIZE_TEMP = 10\n",
    "SIZE_DATA = 10000\n",
    "SIZE_SIMULATION = 100\n",
    "\n",
    "temp_inv = np.zeros((SIZE_TEMP))\n",
    "for idx_temp in range(SIZE_TEMP):\n",
    "    temp_inv[idx_temp] = 2**(idx_temp-SIZE_TEMP)\n",
    "    obj_mcmc = MCMC_Simulator(\n",
    "                            type_IC = 'BIC',\n",
    "                            temp_inv = temp_inv[idx_temp],\n",
    "                            SIZE_SIMULATION=SIZE_SIMULATION,\n",
    "                            SIZE_DATA = SIZE_DATA,\n",
    "                            SIZE_VARIABLE=SIZE_VARIABLE)\n",
    "    mcmc.append(obj_mcmc)"
   ]
  },
  {
   "cell_type": "code",
   "execution_count": 4,
   "metadata": {
    "scrolled": true
   },
   "outputs": [
    {
     "ename": "KeyboardInterrupt",
     "evalue": "",
     "output_type": "error",
     "traceback": [
      "\u001b[0;31m---------------------------------------------------------------------------\u001b[0m",
      "\u001b[0;31mKeyboardInterrupt\u001b[0m                         Traceback (most recent call last)",
      "\u001b[0;32m<ipython-input-4-ffe3c2250bda>\u001b[0m in \u001b[0;36m<module>\u001b[0;34m\u001b[0m\n\u001b[1;32m     21\u001b[0m             \u001b[0moutput_train\u001b[0m\u001b[0;34m=\u001b[0m\u001b[0moutput_train_sim\u001b[0m\u001b[0;34m[\u001b[0m\u001b[0;34m:\u001b[0m\u001b[0mSIZE_DATA\u001b[0m\u001b[0;34m,\u001b[0m \u001b[0;34m:\u001b[0m\u001b[0;34m]\u001b[0m\u001b[0;34m,\u001b[0m\u001b[0;34m\u001b[0m\u001b[0;34m\u001b[0m\u001b[0m\n\u001b[1;32m     22\u001b[0m             \u001b[0minput_valid\u001b[0m\u001b[0;34m=\u001b[0m\u001b[0minput_valid\u001b[0m\u001b[0;34m[\u001b[0m\u001b[0;34m:\u001b[0m\u001b[0;34m,\u001b[0m \u001b[0;34m:\u001b[0m\u001b[0;34m]\u001b[0m\u001b[0;34m,\u001b[0m\u001b[0;34m\u001b[0m\u001b[0;34m\u001b[0m\u001b[0m\n\u001b[0;32m---> 23\u001b[0;31m             output_valid=output_valid[:, :])\n\u001b[0m\u001b[1;32m     24\u001b[0m \u001b[0;34m\u001b[0m\u001b[0m\n\u001b[1;32m     25\u001b[0m     \u001b[0midx_exchange\u001b[0m \u001b[0;34m=\u001b[0m \u001b[0mint\u001b[0m\u001b[0;34m(\u001b[0m\u001b[0mnp\u001b[0m\u001b[0;34m.\u001b[0m\u001b[0mrandom\u001b[0m\u001b[0;34m.\u001b[0m\u001b[0mrandint\u001b[0m\u001b[0;34m(\u001b[0m\u001b[0;36m0\u001b[0m\u001b[0;34m,\u001b[0m \u001b[0mSIZE_TEMP\u001b[0m\u001b[0;34m-\u001b[0m\u001b[0;36m1\u001b[0m\u001b[0;34m,\u001b[0m \u001b[0;36m1\u001b[0m\u001b[0;34m)\u001b[0m\u001b[0;34m)\u001b[0m\u001b[0;34m\u001b[0m\u001b[0;34m\u001b[0m\u001b[0m\n",
      "\u001b[0;32m~/workspace/src/TimeSeriesAnalysis/utils/MCMC.py\u001b[0m in \u001b[0;36msimulateMCMC\u001b[0;34m(self, input_train, output_train, input_valid, output_valid)\u001b[0m\n\u001b[1;32m     53\u001b[0m             \u001b[0minput_train\u001b[0m\u001b[0;34m,\u001b[0m \u001b[0moutput_train\u001b[0m\u001b[0;34m,\u001b[0m\u001b[0;34m\u001b[0m\u001b[0;34m\u001b[0m\u001b[0m\n\u001b[1;32m     54\u001b[0m             \u001b[0minput_valid\u001b[0m\u001b[0;34m,\u001b[0m \u001b[0moutput_valid\u001b[0m\u001b[0;34m,\u001b[0m\u001b[0;34m\u001b[0m\u001b[0;34m\u001b[0m\u001b[0m\n\u001b[0;32m---> 55\u001b[0;31m             self.state_select)\n\u001b[0m\u001b[1;32m     56\u001b[0m         self.IC_new = MCMC_Simulator.calculateIC(\n\u001b[1;32m     57\u001b[0m             \u001b[0mself\u001b[0m\u001b[0;34m.\u001b[0m\u001b[0mtype_IC\u001b[0m\u001b[0;34m,\u001b[0m\u001b[0;34m\u001b[0m\u001b[0;34m\u001b[0m\u001b[0m\n",
      "\u001b[0;32m~/workspace/src/TimeSeriesAnalysis/utils/MCMC.py\u001b[0m in \u001b[0;36mcalculateIC\u001b[0;34m(type_IC, input_train, output_train, input_valid, output_valid, state_select)\u001b[0m\n\u001b[1;32m     80\u001b[0m         \u001b[0minput_train_const\u001b[0m\u001b[0;34m[\u001b[0m\u001b[0;34m:\u001b[0m\u001b[0;34m,\u001b[0m \u001b[0;34m:\u001b[0m\u001b[0;34m-\u001b[0m\u001b[0;36m1\u001b[0m\u001b[0;34m]\u001b[0m \u001b[0;34m=\u001b[0m  \u001b[0minput_train\u001b[0m\u001b[0;34m[\u001b[0m\u001b[0;34m:\u001b[0m\u001b[0;34m,\u001b[0m \u001b[0;34m:\u001b[0m\u001b[0;34m]\u001b[0m \u001b[0;34m*\u001b[0m \u001b[0mstate_select\u001b[0m\u001b[0;34m[\u001b[0m\u001b[0;34m:\u001b[0m\u001b[0;34m]\u001b[0m\u001b[0;34m\u001b[0m\u001b[0;34m\u001b[0m\u001b[0m\n\u001b[1;32m     81\u001b[0m         \u001b[0minput_train_const\u001b[0m\u001b[0;34m[\u001b[0m\u001b[0;34m:\u001b[0m\u001b[0;34m,\u001b[0m \u001b[0;34m-\u001b[0m\u001b[0;36m1\u001b[0m\u001b[0;34m]\u001b[0m \u001b[0;34m=\u001b[0m \u001b[0mnp\u001b[0m\u001b[0;34m.\u001b[0m\u001b[0mones\u001b[0m\u001b[0;34m(\u001b[0m\u001b[0;34m(\u001b[0m\u001b[0mSIZE_TRAIN\u001b[0m\u001b[0;34m)\u001b[0m\u001b[0;34m)\u001b[0m\u001b[0;34m\u001b[0m\u001b[0;34m\u001b[0m\u001b[0m\n\u001b[0;32m---> 82\u001b[0;31m         \u001b[0mpinv_input_train\u001b[0m \u001b[0;34m=\u001b[0m \u001b[0mnp\u001b[0m\u001b[0;34m.\u001b[0m\u001b[0mlinalg\u001b[0m\u001b[0;34m.\u001b[0m\u001b[0mpinv\u001b[0m\u001b[0;34m(\u001b[0m\u001b[0minput_train_const\u001b[0m\u001b[0;34m[\u001b[0m\u001b[0;34m:\u001b[0m\u001b[0;34m,\u001b[0m \u001b[0;34m:\u001b[0m\u001b[0;34m]\u001b[0m\u001b[0;34m)\u001b[0m\u001b[0;34m\u001b[0m\u001b[0;34m\u001b[0m\u001b[0m\n\u001b[0m\u001b[1;32m     83\u001b[0m         \u001b[0mcoeff_train\u001b[0m \u001b[0;34m=\u001b[0m \u001b[0mpinv_input_train\u001b[0m\u001b[0;34m[\u001b[0m\u001b[0;34m:\u001b[0m\u001b[0;34m,\u001b[0m \u001b[0;34m:\u001b[0m\u001b[0;34m]\u001b[0m \u001b[0;34m@\u001b[0m \u001b[0moutput_train\u001b[0m\u001b[0;34m[\u001b[0m\u001b[0;34m:\u001b[0m\u001b[0;34m]\u001b[0m\u001b[0;34m\u001b[0m\u001b[0;34m\u001b[0m\u001b[0m\n\u001b[1;32m     84\u001b[0m \u001b[0;34m\u001b[0m\u001b[0m\n",
      "\u001b[0;32m<__array_function__ internals>\u001b[0m in \u001b[0;36mpinv\u001b[0;34m(*args, **kwargs)\u001b[0m\n",
      "\u001b[0;32m/usr/local/lib/python3.7/site-packages/numpy/linalg/linalg.py\u001b[0m in \u001b[0;36mpinv\u001b[0;34m(a, rcond, hermitian)\u001b[0m\n\u001b[1;32m   1968\u001b[0m         \u001b[0;32mreturn\u001b[0m \u001b[0mwrap\u001b[0m\u001b[0;34m(\u001b[0m\u001b[0mres\u001b[0m\u001b[0;34m)\u001b[0m\u001b[0;34m\u001b[0m\u001b[0;34m\u001b[0m\u001b[0m\n\u001b[1;32m   1969\u001b[0m     \u001b[0ma\u001b[0m \u001b[0;34m=\u001b[0m \u001b[0ma\u001b[0m\u001b[0;34m.\u001b[0m\u001b[0mconjugate\u001b[0m\u001b[0;34m(\u001b[0m\u001b[0;34m)\u001b[0m\u001b[0;34m\u001b[0m\u001b[0;34m\u001b[0m\u001b[0m\n\u001b[0;32m-> 1970\u001b[0;31m     \u001b[0mu\u001b[0m\u001b[0;34m,\u001b[0m \u001b[0ms\u001b[0m\u001b[0;34m,\u001b[0m \u001b[0mvt\u001b[0m \u001b[0;34m=\u001b[0m \u001b[0msvd\u001b[0m\u001b[0;34m(\u001b[0m\u001b[0ma\u001b[0m\u001b[0;34m,\u001b[0m \u001b[0mfull_matrices\u001b[0m\u001b[0;34m=\u001b[0m\u001b[0;32mFalse\u001b[0m\u001b[0;34m,\u001b[0m \u001b[0mhermitian\u001b[0m\u001b[0;34m=\u001b[0m\u001b[0mhermitian\u001b[0m\u001b[0;34m)\u001b[0m\u001b[0;34m\u001b[0m\u001b[0;34m\u001b[0m\u001b[0m\n\u001b[0m\u001b[1;32m   1971\u001b[0m \u001b[0;34m\u001b[0m\u001b[0m\n\u001b[1;32m   1972\u001b[0m     \u001b[0;31m# discard small singular values\u001b[0m\u001b[0;34m\u001b[0m\u001b[0;34m\u001b[0m\u001b[0;34m\u001b[0m\u001b[0m\n",
      "\u001b[0;32m<__array_function__ internals>\u001b[0m in \u001b[0;36msvd\u001b[0;34m(*args, **kwargs)\u001b[0m\n",
      "\u001b[0;32m/usr/local/lib/python3.7/site-packages/numpy/linalg/linalg.py\u001b[0m in \u001b[0;36msvd\u001b[0;34m(a, full_matrices, compute_uv, hermitian)\u001b[0m\n\u001b[1;32m   1634\u001b[0m \u001b[0;34m\u001b[0m\u001b[0m\n\u001b[1;32m   1635\u001b[0m         \u001b[0msignature\u001b[0m \u001b[0;34m=\u001b[0m \u001b[0;34m'D->DdD'\u001b[0m \u001b[0;32mif\u001b[0m \u001b[0misComplexType\u001b[0m\u001b[0;34m(\u001b[0m\u001b[0mt\u001b[0m\u001b[0;34m)\u001b[0m \u001b[0;32melse\u001b[0m \u001b[0;34m'd->ddd'\u001b[0m\u001b[0;34m\u001b[0m\u001b[0;34m\u001b[0m\u001b[0m\n\u001b[0;32m-> 1636\u001b[0;31m         \u001b[0mu\u001b[0m\u001b[0;34m,\u001b[0m \u001b[0ms\u001b[0m\u001b[0;34m,\u001b[0m \u001b[0mvh\u001b[0m \u001b[0;34m=\u001b[0m \u001b[0mgufunc\u001b[0m\u001b[0;34m(\u001b[0m\u001b[0ma\u001b[0m\u001b[0;34m,\u001b[0m \u001b[0msignature\u001b[0m\u001b[0;34m=\u001b[0m\u001b[0msignature\u001b[0m\u001b[0;34m,\u001b[0m \u001b[0mextobj\u001b[0m\u001b[0;34m=\u001b[0m\u001b[0mextobj\u001b[0m\u001b[0;34m)\u001b[0m\u001b[0;34m\u001b[0m\u001b[0;34m\u001b[0m\u001b[0m\n\u001b[0m\u001b[1;32m   1637\u001b[0m         \u001b[0mu\u001b[0m \u001b[0;34m=\u001b[0m \u001b[0mu\u001b[0m\u001b[0;34m.\u001b[0m\u001b[0mastype\u001b[0m\u001b[0;34m(\u001b[0m\u001b[0mresult_t\u001b[0m\u001b[0;34m,\u001b[0m \u001b[0mcopy\u001b[0m\u001b[0;34m=\u001b[0m\u001b[0;32mFalse\u001b[0m\u001b[0;34m)\u001b[0m\u001b[0;34m\u001b[0m\u001b[0;34m\u001b[0m\u001b[0m\n\u001b[1;32m   1638\u001b[0m         \u001b[0ms\u001b[0m \u001b[0;34m=\u001b[0m \u001b[0ms\u001b[0m\u001b[0;34m.\u001b[0m\u001b[0mastype\u001b[0m\u001b[0;34m(\u001b[0m\u001b[0m_realType\u001b[0m\u001b[0;34m(\u001b[0m\u001b[0mresult_t\u001b[0m\u001b[0;34m)\u001b[0m\u001b[0;34m,\u001b[0m \u001b[0mcopy\u001b[0m\u001b[0;34m=\u001b[0m\u001b[0;32mFalse\u001b[0m\u001b[0;34m)\u001b[0m\u001b[0;34m\u001b[0m\u001b[0;34m\u001b[0m\u001b[0m\n",
      "\u001b[0;31mKeyboardInterrupt\u001b[0m: "
     ]
    }
   ],
   "source": [
    "state_select_best = np.zeros((SIZE_SIMULATION, SIZE_VARIABLE))\n",
    "state_IC_temp = np.zeros((SIZE_SIMULATION, SIZE_TEMP))\n",
    "state_IC_temp_best = np.zeros((SIZE_SIMULATION, SIZE_TEMP))\n",
    "state_IC_best = np.zeros((SIZE_SIMULATION))\n",
    "IC_best = 1000000\n",
    "\n",
    "input_train_sim = np.zeros((SIZE_TRAIN_SHUFFLE, SIZE_VARIABLE))\n",
    "output_train_sim = np.zeros((SIZE_TRAIN_SHUFFLE, DIM_OUTPUT))\n",
    "\n",
    "time_init = time.time()\n",
    "for idx_sim in range(SIZE_SIMULATION):\n",
    "    # shuffle the dataset\n",
    "    idx_rand = random.sample(range(SIZE_TRAIN_SHUFFLE), k=SIZE_TRAIN_SHUFFLE)\n",
    "    for idx_batch in range(SIZE_TRAIN_SHUFFLE):\n",
    "        idx_rand = idx_rand[idx_batch]\n",
    "        input_train_sim[idx_batch, :] = input_train_shuffle[idx_rand, :]\n",
    "        output_train_sim[idx_batch, :] = output_train_shuffle[idx_rand, :]\n",
    "    \n",
    "    for idx_temp in range(SIZE_TEMP):\n",
    "        mcmc[idx_temp].simulateMCMC(\n",
    "            input_train=input_train_sim[:SIZE_DATA, :],\n",
    "            output_train=output_train_sim[:SIZE_DATA, :],\n",
    "            input_valid=input_valid[:, :],\n",
    "            output_valid=output_valid[:, :])\n",
    "    \n",
    "    idx_exchange = int(np.random.randint(0, SIZE_TEMP-1, 1))\n",
    "    IC_pre = MCMC_Simulator.calculateIC(\n",
    "        mcmc[0].type_IC,\n",
    "        input_train=input_train_sim[:SIZE_DATA, :],\n",
    "        output_train=output_train_sim[:SIZE_DATA, :],\n",
    "        input_valid=input_valid[:, :],\n",
    "        output_valid=output_valid[:, :],\n",
    "        state_select=mcmc[idx_exchange].state_select)\n",
    "    IC_post = MCMC_Simulator.calculateIC(\n",
    "        mcmc[0].type_IC,\n",
    "        input_train=input_train_sim[:SIZE_DATA, :],\n",
    "        output_train=output_train_sim[:SIZE_DATA, :],\n",
    "        input_valid=input_valid[:, :],\n",
    "        output_valid=output_valid[:, :],\n",
    "        state_select=mcmc[idx_exchange+1].state_select)\n",
    "    \n",
    "    prob_change = np.exp( \\\n",
    "        ((temp_inv[idx_exchange+1]-temp_inv[idx_exchange]) *  (IC_post-IC_pre)).clip(-100, 100))\n",
    "    if np.random.uniform(0, 1) < prob_change:\n",
    "        state_select_pre = mcmc[idx_exchange].state_select\n",
    "        state_select_post = mcmc[idx_exchange+1].state_select\n",
    "        mcmc[idx_exchange].state_select = state_select_post\n",
    "        mcmc[idx_exchange+1].state_select = state_select_pre\n",
    "        mcmc[idx_exchange].IC = IC_post\n",
    "        mcmc[idx_exchange+1].IC = IC_pre\n",
    "        if IC_post < mcmc[idx_exchange].IC_best:\n",
    "            mcmc[idx_exchange].state_select_best = state_select_post\n",
    "            mcmc[idx_exchange].IC_best = IC_post\n",
    "        if IC_pre < mcmc[idx_exchange+1].IC_best:\n",
    "            mcmc[idx_exchange+1].state_select_best = state_select_pre\n",
    "            mcmc[idx_exchange+1].IC_best = IC_pre\n",
    "    \n",
    "    for idx_temp in range(SIZE_TEMP):\n",
    "        state_IC_temp[idx_sim, idx_temp] = mcmc[idx_temp].IC\n",
    "        state_IC_temp_best[idx_sim, idx_temp] = mcmc[idx_temp].IC_best\n",
    "        if mcmc[idx_temp].IC_best < IC_best:\n",
    "            IC_best = mcmc[idx_temp].IC_best\n",
    "            select_best = mcmc[idx_temp].state_select_best[:]\n",
    "    \n",
    "    state_IC_best[idx_sim] = IC_best\n",
    "    state_select_best[idx_sim, :] = select_best[:]\n",
    "    \n",
    "    time_end = time.time()\n",
    "    print('idx_sim:', idx_sim, ', IC_best:', '{:.2f}'.format(IC_best_all), \\\n",
    "              ', size_select:', len(np.nonzero(state_select_bestl[:])[0]))\n",
    "    print('The index of the simnulation:', int((time_end-time_init)/60), 'min')"
   ]
  },
  {
   "cell_type": "code",
   "execution_count": null,
   "metadata": {
    "scrolled": true
   },
   "outputs": [],
   "source": [
    "for idx_temp in range(SIZE_TEMP):\n",
    "    plt.plot(np.log(state_IC_temp[:, idx_temp]), label=idx_temp)\n",
    "plt.legend(bbox_to_anchor=(1.1, 1), loc='upper left', borderaxespad=0)\n",
    "plt.xlim([0, SIZE_SIMULATION-1])\n",
    "plt.show"
   ]
  },
  {
   "cell_type": "code",
   "execution_count": null,
   "metadata": {},
   "outputs": [],
   "source": [
    "for idx_temp in range(SIZE_TEMP):\n",
    "    plt.plot(np.log(state_IC_temp_best[:, idx_temp]), label=idx_temp)\n",
    "plt.legend(bbox_to_anchor=(1.1, 1), loc='upper left', borderaxespad=0)\n",
    "plt.xlim([0, SIZE_SIMULATION-1])\n",
    "plt.show"
   ]
  },
  {
   "cell_type": "code",
   "execution_count": null,
   "metadata": {},
   "outputs": [],
   "source": [
    "plt.plot(np.log(state_IC_best[:]), label='All')\n",
    "plt.legend(bbox_to_anchor=(1.1, 1), loc='upper left', borderaxespad=0)\n",
    "plt.xlim([0, SIZE_SIMULATION-1])\n",
    "plt.show"
   ]
  },
  {
   "cell_type": "code",
   "execution_count": null,
   "metadata": {},
   "outputs": [],
   "source": [
    "print(len(np.nonzero(state_select_best[:])[0]))"
   ]
  },
  {
   "cell_type": "code",
   "execution_count": null,
   "metadata": {},
   "outputs": [],
   "source": [
    "freq_leak = np.zeros((SIZE_LEAK))\n",
    "for idx_leak in range(SIZE_LEAK):\n",
    "    freq_leak[idx_leak] = np.sum(state_select_best[idx_leak*1000:(idx_leak+1)*1000])\n",
    "plt.plot(freq_leak[:], label='best')\n",
    "plt.legend(bbox_to_anchor=(1.1, 1), loc='upper left', borderaxespad=0)\n",
    "plt.xlim([0, 4])\n",
    "plt.show"
   ]
  },
  {
   "cell_type": "code",
   "execution_count": null,
   "metadata": {},
   "outputs": [],
   "source": [
    "SIZE_DEPTH = 10\n",
    "freq_depth = np.zeros((SIZE_DEPTH))\n",
    "for idx_leak in range(SIZE_LEAK):\n",
    "    for idx_depth in range(SIZE_DEPTH):\n",
    "        freq_depth[idx_depth] += np.sum(\n",
    "            state_select_best_all[idx_depth*100+idx_leak*1000 \\\n",
    "            :(idx_depth+1)*100+idx_leak*1000])\n",
    "plt.plot(freq_depth[:], label='best')\n",
    "plt.legend(bbox_to_anchor=(1.1, 1), loc='upper left', borderaxespad=0)\n",
    "plt.xlim([0, 9])\n",
    "plt.show"
   ]
  },
  {
   "cell_type": "code",
   "execution_count": null,
   "metadata": {},
   "outputs": [],
   "source": [
    "input_train_select = np.zeros((SIZE_TRAIN_SHUFFLE, SIZE_VARIABLE))\n",
    "input_train_select[:, :] = input_train_shuffle[:, :] * state_select_best[:]\n",
    "\n",
    "input_train_select_const = np.zeros((SIZE_TRAIN_SHUFFLE, SIZE_VARIABLE+1))\n",
    "input_train_select_const[:, :-1] =  input_train_select[:, :]\n",
    "input_train_select_const[:, -1] = np.ones((SIZE_TRAIN_SHUFFLE))\n",
    "\n",
    "pinv_input_train_select = np.linalg.pinv(input_train_select_const[:, :])\n",
    "coeff_train_select = pinv_input_train_select[:, :] @ output_train_shuffle[:, :]\n",
    "output_train_select_pred = input_train_select_const[:, :]@coeff_train_select[:, :]\n",
    "\n",
    "input_test_select_const = np.zeros((SIZE_TEST, SIZE_VARIABLE+1))\n",
    "input_test_select_const[:, :-1] =  input_test[:, :] * state_select_best_all[:]\n",
    "input_test_select_const[:, -1] = np.ones((SIZE_TEST))\n",
    "\n",
    "output_test_select = input_test_select_const[:, :] @ coeff_train_select[:, :]\n",
    "error_test_select = output_test[:, :] - output_test_select[:, :]\n",
    "mse_test_select = np.average(error_test_select[:, :]**2, axis=0)"
   ]
  },
  {
   "cell_type": "code",
   "execution_count": null,
   "metadata": {},
   "outputs": [],
   "source": [
    "input_train_all_const = np.zeros((SIZE_TRAIN_SHUFFLE, SIZE_VARIABLE+1))\n",
    "input_train_all_const[:, :-1] =  input_train_shuffle[:, :]\n",
    "input_train_all_const[:, -1] = np.ones((SIZE_TRAIN_SHUFFLE))\n",
    "\n",
    "pinv_input_train_all = np.linalg.pinv(input_train_all_const[:, :])\n",
    "coeff_train_all = pinv_input_train_all[:, :] @ output_train_shuffle[:, :]\n",
    "output_train_all_pred = input_train_all_const[:, :]@coeff_train_all[:, :]\n",
    "\n",
    "input_test_all_const = np.zeros((SIZE_TEST, SIZE_VARIABLE+1))\n",
    "input_test_all_const[:, :-1] =  input_test[:, :]\n",
    "input_test_all_const[:, -1] = np.ones((SIZE_TEST))\n",
    "\n",
    "output_test_all = input_test_all_const[:, :] @ coeff_train_all[:, :]\n",
    "error_test_all = output_test[:, :] - output_test_all[:, :]\n",
    "mse_test_all = np.average(error_test_all[:, :]**2, axis=0)"
   ]
  },
  {
   "cell_type": "code",
   "execution_count": null,
   "metadata": {},
   "outputs": [],
   "source": [
    "print('mse_test_all:', np.average(mse_test_all))\n",
    "print('mse_test_select:', np.average(mse_test_select))\n",
    "\n",
    "plt.figure()\n",
    "plt.title('Prediction of test data')\n",
    "\n",
    "plt.ylabel('Prediction')\n",
    "plt.xlabel('Time')\n",
    "\n",
    "plt.plot(mse_test_all, label='ALL')\n",
    "plt.plot(mse_test_select, label='Select')\n",
    "plt.legend(bbox_to_anchor=(1.1, 1), loc='upper left', borderaxespad=0)\n",
    "plt.xlim(0, DIM_OUTPUT-1)\n",
    "plt.show()"
   ]
  },
  {
   "cell_type": "code",
   "execution_count": null,
   "metadata": {
    "scrolled": true
   },
   "outputs": [],
   "source": [
    "plt.figure()\n",
    "plt.title('Prediction of train data')\n",
    "\n",
    "plt.ylabel('Prediction')\n",
    "plt.xlabel('Time')\n",
    "\n",
    "idx = SIZE_TEST-1\n",
    "plt.plot(output_train_all_pred[idx, :], label='ALL')\n",
    "plt.plot(output_train_select_pred[idx, :], label='Select')\n",
    "plt.plot(output_train_shuffle[idx, :], label='Data', color='black', linestyle='dashed')\n",
    "plt.legend(bbox_to_anchor=(1.1, 1), loc='upper left', borderaxespad=0)\n",
    "plt.xlim(0, DIM_OUTPUT-1)\n",
    "plt.show()"
   ]
  },
  {
   "cell_type": "code",
   "execution_count": null,
   "metadata": {},
   "outputs": [],
   "source": [
    "plt.figure()\n",
    "plt.title('Prediction of test data')\n",
    "\n",
    "plt.ylabel('Prediction')\n",
    "plt.xlabel('Time')\n",
    "\n",
    "idx = SIZE_TEST-1\n",
    "plt.plot(output_test_all[idx, :], label='ALL')\n",
    "plt.plot(output_test_select[idx, :], label='Select')\n",
    "plt.plot(output_test[idx, :], label='Data', color='black', linestyle='dashed')\n",
    "plt.legend(bbox_to_anchor=(1.1, 1), loc='upper left', borderaxespad=0)\n",
    "plt.xlim(0, DIM_OUTPUT-1)\n",
    "plt.show()"
   ]
  },
  {
   "cell_type": "code",
   "execution_count": null,
   "metadata": {},
   "outputs": [],
   "source": [
    "np.save('model/esn_lorenz/mcmc.npy', mcmc)\n",
    "np.save('model/esn_lorenz/state_IC_best_all.npy', state_IC_best_all)\n",
    "np.save('model/esn_lorenz/state_select_best_all.npy', state_select_best_all)"
   ]
  },
  {
   "cell_type": "code",
   "execution_count": null,
   "metadata": {},
   "outputs": [],
   "source": []
  }
 ],
 "metadata": {
  "kernelspec": {
   "display_name": "Python 3",
   "language": "python",
   "name": "python3"
  },
  "language_info": {
   "codemirror_mode": {
    "name": "ipython",
    "version": 3
   },
   "file_extension": ".py",
   "mimetype": "text/x-python",
   "name": "python",
   "nbconvert_exporter": "python",
   "pygments_lexer": "ipython3",
   "version": "3.7.5"
  }
 },
 "nbformat": 4,
 "nbformat_minor": 2
}
