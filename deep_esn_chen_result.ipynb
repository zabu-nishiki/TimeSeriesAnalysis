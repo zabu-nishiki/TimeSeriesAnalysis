{
 "cells": [
  {
   "cell_type": "code",
   "execution_count": 1,
   "metadata": {},
   "outputs": [],
   "source": [
    "import numpy as np\n",
    "from scipy import stats\n",
    "import matplotlib.pyplot as plt\n",
    "import time\n",
    "\n",
    "from utils import RandomSeedResetter\n",
    "from utils.ReservoirComputing import EchoStateNetwork\n",
    "\n",
    "RandomSeedResetter.reset_random_seed(0)"
   ]
  },
  {
   "cell_type": "code",
   "execution_count": 2,
   "metadata": {},
   "outputs": [],
   "source": [
    "log_esn_train_shuffle = np.load('data/esn_chen/log_esn_train_shuffle.npy')\n",
    "log_esn_valid = np.load('data/esn_chen/log_esn_valid.npy')\n",
    "log_esn_test = np.load('data/esn_chen/log_esn_test.npy')"
   ]
  },
  {
   "cell_type": "code",
   "execution_count": 3,
   "metadata": {},
   "outputs": [],
   "source": [
    "SIZE_LEAK = len(log_esn_train_shuffle[:])\n",
    "SIZE_TRAIN_SHUFFLE = len(log_esn_train_shuffle[0, :])\n",
    "SIZE_VALID = len(log_esn_valid[0, :])\n",
    "SIZE_TEST = len(log_esn_test[0, :])\n",
    "SIZE_VARIABLE = len(log_esn_train_shuffle[0, 0, :])\n",
    "\n",
    "maxabs_esn_train_shuffle = np.zeros((SIZE_LEAK, SIZE_VARIABLE))\n",
    "for idx_leak in range(SIZE_LEAK):\n",
    "    maxabs_esn_train_shuffle[idx_leak, :] = np.max(abs(log_esn_train_shuffle[idx_leak, :, :]), axis=0)\n",
    "\n",
    "log_esn_train_shuffle_norm = np.zeros((SIZE_LEAK, SIZE_TRAIN_SHUFFLE, SIZE_VARIABLE))\n",
    "log_esn_valid_norm = np.zeros((SIZE_LEAK, SIZE_VALID, SIZE_VARIABLE))\n",
    "log_esn_test_norm = np.zeros((SIZE_LEAK, SIZE_TEST, SIZE_VARIABLE))\n",
    "for idx_leak in range(SIZE_LEAK):\n",
    "    for idx_dim in range(SIZE_VARIABLE):\n",
    "        if maxabs_esn_train_shuffle[idx_leak, idx_dim] != 0:\n",
    "            log_esn_train_shuffle_norm[idx_leak, :, idx_dim] = \\\n",
    "                log_esn_train_shuffle[idx_leak, :, idx_dim] / maxabs_esn_train_shuffle[idx_leak, idx_dim]\n",
    "            log_esn_valid_norm[idx_leak, :, idx_dim] = \\\n",
    "                log_esn_valid[idx_leak, :, idx_dim] / maxabs_esn_train_shuffle[idx_leak, idx_dim]\n",
    "            log_esn_test_norm[idx_leak, :, idx_dim] = \\\n",
    "                log_esn_test[idx_leak, :, idx_dim] / maxabs_esn_train_shuffle[idx_leak, idx_dim]"
   ]
  },
  {
   "cell_type": "code",
   "execution_count": 4,
   "metadata": {},
   "outputs": [
    {
     "name": "stdout",
     "output_type": "stream",
     "text": [
      "leak: 0 , depth: 0\n"
     ]
    },
    {
     "data": {
      "text/plain": [
       "<function matplotlib.pyplot.show(*args, **kw)>"
      ]
     },
     "execution_count": 4,
     "metadata": {},
     "output_type": "execute_result"
    },
    {
     "data": {
      "image/png": "[encoded data removed]",
      "text/plain": [
       "<Figure size 432x288 with 1 Axes>"
      ]
     },
     "metadata": {
      "needs_background": "light"
     },
     "output_type": "display_data"
    }
   ],
   "source": [
    "print('leak:', 0,  ', depth:', 0)\n",
    "plt.figure()\n",
    "plt.hist(log_esn_train_shuffle_norm[0, :, 0], bins=100)\n",
    "plt.show"
   ]
  },
  {
   "cell_type": "code",
   "execution_count": 5,
   "metadata": {},
   "outputs": [
    {
     "name": "stdout",
     "output_type": "stream",
     "text": [
      "leak: -1 , depth: 0\n"
     ]
    },
    {
     "data": {
      "text/plain": [
       "<function matplotlib.pyplot.show(*args, **kw)>"
      ]
     },
     "execution_count": 5,
     "metadata": {},
     "output_type": "execute_result"
    },
    {
     "data": {
      "image/png": "[encoded data removed]",
      "text/plain": [
       "<Figure size 432x288 with 1 Axes>"
      ]
     },
     "metadata": {
      "needs_background": "light"
     },
     "output_type": "display_data"
    }
   ],
   "source": [
    "print('leak:', -1,  ', depth:', 0)\n",
    "plt.figure()\n",
    "plt.hist(log_esn_train_shuffle_norm[-1, :, 0], bins=100)\n",
    "plt.show"
   ]
  },
  {
   "cell_type": "code",
   "execution_count": 6,
   "metadata": {
    "scrolled": true
   },
   "outputs": [
    {
     "name": "stdout",
     "output_type": "stream",
     "text": [
      "leak: 0 , depth: -1\n"
     ]
    },
    {
     "data": {
      "text/plain": [
       "<function matplotlib.pyplot.show(*args, **kw)>"
      ]
     },
     "execution_count": 6,
     "metadata": {},
     "output_type": "execute_result"
    },
    {
     "data": {
      "image/png": "[encoded data removed]",
      "text/plain": [
       "<Figure size 432x288 with 1 Axes>"
      ]
     },
     "metadata": {
      "needs_background": "light"
     },
     "output_type": "display_data"
    }
   ],
   "source": [
    "print('leak:', 0,  ', depth:', -1)\n",
    "plt.figure()\n",
    "plt.hist(log_esn_train_shuffle_norm[0, :, -1], bins=100)\n",
    "plt.show"
   ]
  },
  {
   "cell_type": "code",
   "execution_count": 7,
   "metadata": {},
   "outputs": [
    {
     "name": "stdout",
     "output_type": "stream",
     "text": [
      "leak: -1 , depth: -1\n"
     ]
    },
    {
     "data": {
      "text/plain": [
       "<function matplotlib.pyplot.show(*args, **kw)>"
      ]
     },
     "execution_count": 7,
     "metadata": {},
     "output_type": "execute_result"
    },
    {
     "data": {
      "image/png": "[encoded data removed]",
      "text/plain": [
       "<Figure size 432x288 with 1 Axes>"
      ]
     },
     "metadata": {
      "needs_background": "light"
     },
     "output_type": "display_data"
    }
   ],
   "source": [
    "print('leak:', -1,  ', depth:', -1)\n",
    "plt.figure()\n",
    "plt.hist(log_esn_train_shuffle_norm[-1, :, -1], bins=100)\n",
    "plt.show"
   ]
  },
  {
   "cell_type": "code",
   "execution_count": 8,
   "metadata": {},
   "outputs": [
    {
     "name": "stdout",
     "output_type": "stream",
     "text": [
      "leak: 0 , time: 0\n"
     ]
    },
    {
     "data": {
      "text/plain": [
       "<function matplotlib.pyplot.show(*args, **kw)>"
      ]
     },
     "execution_count": 8,
     "metadata": {},
     "output_type": "execute_result"
    },
    {
     "data": {
      "image/png": "[encoded data removed]",
      "text/plain": [
       "<Figure size 432x288 with 1 Axes>"
      ]
     },
     "metadata": {
      "needs_background": "light"
     },
     "output_type": "display_data"
    }
   ],
   "source": [
    "print('leak:', 0,  ', time:', 0)\n",
    "plt.figure()\n",
    "plt.hist(log_esn_train_shuffle_norm[0, 0, :], bins=100)\n",
    "plt.show"
   ]
  },
  {
   "cell_type": "code",
   "execution_count": 9,
   "metadata": {},
   "outputs": [
    {
     "name": "stdout",
     "output_type": "stream",
     "text": [
      "leak: -1 , time: 0\n"
     ]
    },
    {
     "data": {
      "text/plain": [
       "<function matplotlib.pyplot.show(*args, **kw)>"
      ]
     },
     "execution_count": 9,
     "metadata": {},
     "output_type": "execute_result"
    },
    {
     "data": {
      "image/png": "[encoded data removed]",
      "text/plain": [
       "<Figure size 432x288 with 1 Axes>"
      ]
     },
     "metadata": {
      "needs_background": "light"
     },
     "output_type": "display_data"
    }
   ],
   "source": [
    "print('leak:', -1,  ', time:', 0)\n",
    "plt.figure()\n",
    "plt.hist(log_esn_train_shuffle_norm[-1, 0, :], bins=100)\n",
    "plt.show"
   ]
  },
  {
   "cell_type": "code",
   "execution_count": 10,
   "metadata": {},
   "outputs": [
    {
     "name": "stdout",
     "output_type": "stream",
     "text": [
      "leak: 0 , time: -1\n"
     ]
    },
    {
     "data": {
      "text/plain": [
       "<function matplotlib.pyplot.show(*args, **kw)>"
      ]
     },
     "execution_count": 10,
     "metadata": {},
     "output_type": "execute_result"
    },
    {
     "data": {
      "image/png": "[encoded data removed]",
      "text/plain": [
       "<Figure size 432x288 with 1 Axes>"
      ]
     },
     "metadata": {
      "needs_background": "light"
     },
     "output_type": "display_data"
    }
   ],
   "source": [
    "print('leak:', 0,  ', time:', -1)\n",
    "plt.figure()\n",
    "plt.hist(log_esn_train_shuffle_norm[0, -1, :], bins=100)\n",
    "plt.show"
   ]
  },
  {
   "cell_type": "code",
   "execution_count": 11,
   "metadata": {
    "scrolled": true
   },
   "outputs": [
    {
     "name": "stdout",
     "output_type": "stream",
     "text": [
      "leak: -1 , time: -1\n"
     ]
    },
    {
     "data": {
      "text/plain": [
       "<function matplotlib.pyplot.show(*args, **kw)>"
      ]
     },
     "execution_count": 11,
     "metadata": {},
     "output_type": "execute_result"
    },
    {
     "data": {
      "image/png": "[encoded data removed]",
      "text/plain": [
       "<Figure size 432x288 with 1 Axes>"
      ]
     },
     "metadata": {
      "needs_background": "light"
     },
     "output_type": "display_data"
    }
   ],
   "source": [
    "print('leak:', -1,  ', time:', -1)\n",
    "plt.figure()\n",
    "plt.hist(log_esn_train_shuffle_norm[-1, -1, :], bins=100)\n",
    "plt.show"
   ]
  },
  {
   "cell_type": "code",
   "execution_count": 12,
   "metadata": {},
   "outputs": [],
   "source": [
    "np.save('data/esn_chen/log_esn_train_shuffle_norm.npy', log_esn_train_shuffle_norm)\n",
    "np.save('data/esn_chen/log_esn_valid_norm.npy', log_esn_valid_norm)\n",
    "np.save('data/esn_chen/log_esn_test_norm.npy', log_esn_test_norm)"
   ]
  }
 ],
 "metadata": {
  "kernelspec": {
   "display_name": "Python 3",
   "language": "python",
   "name": "python3"
  },
  "language_info": {
   "codemirror_mode": {
    "name": "ipython",
    "version": 3
   },
   "file_extension": ".py",
   "mimetype": "text/x-python",
   "name": "python",
   "nbconvert_exporter": "python",
   "pygments_lexer": "ipython3",
   "version": "3.7.5"
  }
 },
 "nbformat": 4,
 "nbformat_minor": 2
}
