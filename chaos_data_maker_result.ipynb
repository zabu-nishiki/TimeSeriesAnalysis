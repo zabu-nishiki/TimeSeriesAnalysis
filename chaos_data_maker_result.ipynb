{
 "cells": [
  {
   "cell_type": "code",
   "execution_count": 1,
   "metadata": {},
   "outputs": [],
   "source": [
    "import numpy as np\n",
    "import matplotlib.pyplot as plt\n",
    "import seaborn as sns\n",
    "from mpl_toolkits.mplot3d import Axes3D\n",
    "\n",
    "from utils import RandomSeedResetter\n",
    "RandomSeedResetter.reset_random_seed(0)\n",
    "\n",
    "data = np.load('data/chen/xyz_chen.npy')\n",
    "\n",
    "file_name_lorenz_3d = 'figure/lorenz/lorenz_3d_'\n",
    "file_name_lorenz_1d = 'figure/lorenz/lorenz_1d_'\n",
    "file_name_chen_3d = 'figure/chen/chen_3d_'\n",
    "file_name_chen_1d = 'figure/chen/chen_1d_'\n",
    "file_name_rossler_3d = 'figure/rossler/rossler_3d_'\n",
    "file_name_rossler_1d = 'figure/rossler/rossler_1d_'\n",
    "\n",
    "#file_name_3d = file_name_lorenz_3d\n",
    "#file_name_1d = file_name_lorenz_1d\n",
    "file_name_3d = file_name_chen_3d\n",
    "file_name_1d = file_name_chen_1d\n",
    "#file_name_3d = file_name_rossler_3d\n",
    "#file_name_1d = file_name_rossler_1d\n",
    "\n",
    "for idx in range(10):\n",
    "    fig = plt.figure()\n",
    "    ax = Axes3D(fig)\n",
    "    ax.set_xlabel('X')\n",
    "    ax.set_ylabel('Y')\n",
    "    ax.set_zlabel('Z')\n",
    "    ax.plot(\n",
    "        data[0+idx*1000:100+idx*1000, 0],\n",
    "        data[0+idx*1000:100+idx*1000, 1],\n",
    "        data[0+idx*1000:100+idx*1000, 2],\n",
    "        marker='.')\n",
    "    ax.set_xlim(-30, 30)\n",
    "    ax.set_ylim(-30, 30)\n",
    "    ax.set_zlim(0, 30)\n",
    "    plt.savefig(file_name_3d + str(idx+1) + '.png')\n",
    "\n",
    "plot_time = np.linspace(0, 100, 100)\n",
    "for idx in range(10):\n",
    "    fig = plt.figure()\n",
    "    plt.xlabel('X')\n",
    "    plt.plot(plot_time[:],\n",
    "                data[0+idx*1000:100+idx*1000, 0],\n",
    "                marker='.')\n",
    "    plt.xlim(0, 100)\n",
    "    plt.ylim(-30, 30)\n",
    "    plt.savefig(file_name_1d + str(idx+1) + '.png')"
   ]
  }
 ],
 "metadata": {
  "kernelspec": {
   "display_name": "Python 3",
   "language": "python",
   "name": "python3"
  },
  "language_info": {
   "codemirror_mode": {
    "name": "ipython",
    "version": 3
   },
   "file_extension": ".py",
   "mimetype": "text/x-python",
   "name": "python",
   "nbconvert_exporter": "python",
   "pygments_lexer": "ipython3",
   "version": "3.7.5"
  }
 },
 "nbformat": 4,
 "nbformat_minor": 2
}
