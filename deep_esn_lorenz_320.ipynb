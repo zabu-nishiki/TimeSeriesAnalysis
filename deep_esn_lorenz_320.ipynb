{
 "cells": [
  {
   "cell_type": "code",
   "execution_count": 1,
   "metadata": {
    "scrolled": true
   },
   "outputs": [],
   "source": [
    "import numpy as np\n",
    "import matplotlib.pyplot as plt\n",
    "import time\n",
    "\n",
    "from utils import RandomSeedResetter\n",
    "from utils.ReservoirComputing import EchoStateNetwork\n",
    "\n",
    "RandomSeedResetter.reset_random_seed(0)"
   ]
  },
  {
   "cell_type": "code",
   "execution_count": 2,
   "metadata": {
    "scrolled": true
   },
   "outputs": [],
   "source": [
    "input_train_shuffle = np.load('data/lorenz/input_train_shuffle.npy')\n",
    "output_train_shuffle = np.load('data/lorenz/output_train_shuffle.npy')\n",
    "input_valid = np.load('data/lorenz/input_valid.npy')\n",
    "output_valid = np.load('data/lorenz/output_valid.npy')\n",
    "input_test = np.load('data/lorenz/input_test.npy')\n",
    "output_test = np.load('data/lorenz/output_test.npy')"
   ]
  },
  {
   "cell_type": "code",
   "execution_count": 3,
   "metadata": {},
   "outputs": [],
   "source": [
    "DIM_INPUT = len(input_train_shuffle[0, 0, :])\n",
    "LEN_TIME = len(input_train_shuffle[0, :])\n",
    "SIZE_RESERVOIR =320\n",
    "DIM_INTER = SIZE_RESERVOIR\n",
    "DEPTH_ESN = 3\n",
    "LEAK_RATE = [1, 0.9, 0.8]\n",
    "SIZE_LEAK = len(LEAK_RATE[:])\n",
    "PROB_INPUT = 1\n",
    "PROB_RESERVOIR = 1"
   ]
  },
  {
   "cell_type": "code",
   "execution_count": 4,
   "metadata": {},
   "outputs": [],
   "source": [
    "deep_esn = [[], [], []]"
   ]
  },
  {
   "cell_type": "code",
   "execution_count": 5,
   "metadata": {},
   "outputs": [],
   "source": [
    "for idx_leak in range(SIZE_LEAK):\n",
    "    esn = EchoStateNetwork(\n",
    "                    SIZE_INPUT=DIM_INPUT,\n",
    "                    SIZE_RESERVOIR=SIZE_RESERVOIR,\n",
    "                    PROB_INPUT=PROB_INPUT,\n",
    "                    PROB_RESERVOIR=PROB_RESERVOIR,\n",
    "                    LEAK_RATE=LEAK_RATE[idx_leak])\n",
    "    deep_esn[idx_leak].append(esn)"
   ]
  },
  {
   "cell_type": "code",
   "execution_count": 6,
   "metadata": {},
   "outputs": [],
   "source": [
    "for idx_depth in range(DEPTH_ESN-1):\n",
    "    for idx_leak in range(SIZE_LEAK):\n",
    "        esn = EchoStateNetwork(\n",
    "            SIZE_INPUT=DIM_INTER,\n",
    "            SIZE_RESERVOIR=SIZE_RESERVOIR,\n",
    "            PROB_INPUT=PROB_INPUT,\n",
    "            PROB_RESERVOIR=PROB_RESERVOIR,\n",
    "            LEAK_RATE=LEAK_RATE[idx_leak]) \n",
    "        deep_esn[idx_leak].append(esn)"
   ]
  },
  {
   "cell_type": "code",
   "execution_count": 7,
   "metadata": {
    "scrolled": true
   },
   "outputs": [],
   "source": [
    "time_init = time.time()\n",
    "SIZE_TRAIN = len(input_train_shuffle[:])\n",
    "input_esn = np.zeros((DIM_INPUT, 1))\n",
    "log_deep_esn_train_shuffle = np.zeros((SIZE_LEAK, SIZE_TRAIN, SIZE_RESERVOIR*DEPTH_ESN))"
   ]
  },
  {
   "cell_type": "code",
   "execution_count": null,
   "metadata": {},
   "outputs": [
    {
     "name": "stdout",
     "output_type": "stream",
     "text": [
      "idx_batch: 0\n",
      "0.0 min\n",
      "idx_batch: 500\n",
      "9.7 min\n",
      "idx_batch: 1000\n",
      "19.3 min\n",
      "idx_batch: 1500\n",
      "28.9 min\n",
      "idx_batch: 2000\n",
      "38.4 min\n",
      "idx_batch: 2500\n",
      "48.0 min\n",
      "idx_batch: 3000\n",
      "57.5 min\n",
      "idx_batch: 3500\n",
      "67.1 min\n",
      "idx_batch: 4000\n",
      "76.7 min\n",
      "idx_batch: 4500\n",
      "86.2 min\n",
      "idx_batch: 5000\n",
      "95.8 min\n",
      "idx_batch: 5500\n",
      "105.3 min\n",
      "idx_batch: 6000\n",
      "114.9 min\n",
      "idx_batch: 6500\n",
      "124.4 min\n",
      "idx_batch: 7000\n",
      "134.0 min\n",
      "idx_batch: 7500\n",
      "143.6 min\n",
      "idx_batch: 8000\n",
      "153.1 min\n",
      "idx_batch: 8500\n",
      "162.7 min\n",
      "idx_batch: 9000\n",
      "172.3 min\n",
      "idx_batch: 9500\n",
      "181.8 min\n",
      "idx_batch: 10000\n",
      "191.4 min\n",
      "idx_batch: 10500\n",
      "200.9 min\n",
      "idx_batch: 11000\n",
      "210.5 min\n",
      "idx_batch: 11500\n",
      "220.0 min\n",
      "idx_batch: 12000\n",
      "229.6 min\n",
      "idx_batch: 12500\n",
      "239.1 min\n",
      "idx_batch: 13000\n",
      "248.7 min\n",
      "idx_batch: 13500\n",
      "258.2 min\n",
      "idx_batch: 14000\n",
      "267.8 min\n",
      "idx_batch: 14500\n",
      "277.3 min\n",
      "idx_batch: 15000\n",
      "286.9 min\n",
      "idx_batch: 15500\n",
      "296.4 min\n",
      "idx_batch: 16000\n",
      "306.0 min\n",
      "idx_batch: 16500\n",
      "315.5 min\n",
      "idx_batch: 17000\n",
      "325.1 min\n",
      "idx_batch: 17500\n",
      "334.7 min\n",
      "idx_batch: 18000\n",
      "344.2 min\n",
      "idx_batch: 18500\n",
      "353.8 min\n",
      "idx_batch: 19000\n",
      "363.4 min\n",
      "idx_batch: 19500\n",
      "373.0 min\n",
      "idx_batch: 20000\n",
      "382.5 min\n",
      "idx_batch: 20500\n",
      "392.1 min\n",
      "idx_batch: 21000\n",
      "401.6 min\n",
      "idx_batch: 21500\n",
      "411.2 min\n",
      "idx_batch: 22000\n",
      "420.8 min\n",
      "idx_batch: 22500\n",
      "430.3 min\n",
      "idx_batch: 23000\n",
      "439.9 min\n",
      "idx_batch: 23500\n",
      "449.4 min\n",
      "idx_batch: 24000\n",
      "459.0 min\n",
      "idx_batch: 24500\n",
      "468.6 min\n",
      "idx_batch: 25000\n",
      "478.1 min\n",
      "idx_batch: 25500\n",
      "487.7 min\n",
      "idx_batch: 26000\n",
      "497.2 min\n",
      "idx_batch: 26500\n",
      "506.8 min\n",
      "idx_batch: 27000\n",
      "516.3 min\n",
      "idx_batch: 27500\n",
      "525.9 min\n",
      "idx_batch: 28000\n",
      "535.5 min\n",
      "idx_batch: 28500\n",
      "545.0 min\n",
      "idx_batch: 29000\n",
      "554.6 min\n",
      "idx_batch: 29500\n",
      "564.2 min\n",
      "idx_batch: 30000\n",
      "619.6 min\n",
      "idx_batch: 30500\n",
      "629.3 min\n",
      "idx_batch: 31000\n",
      "638.8 min\n",
      "idx_batch: 31500\n",
      "648.4 min\n",
      "idx_batch: 32000\n",
      "657.9 min\n",
      "idx_batch: 32500\n",
      "667.4 min\n",
      "idx_batch: 33000\n",
      "676.9 min\n",
      "idx_batch: 33500\n",
      "686.4 min\n",
      "idx_batch: 34000\n",
      "696.0 min\n",
      "idx_batch: 34500\n",
      "705.5 min\n",
      "idx_batch: 35000\n",
      "715.1 min\n"
     ]
    }
   ],
   "source": [
    "for idx_batch in range(SIZE_TRAIN):\n",
    "    if idx_batch%500 == 0:\n",
    "        print('idx_batch:', idx_batch)\n",
    "        time_end = time.time()\n",
    "        print('{:.1f}'.format((time_end-time_init)/60), 'min')\n",
    "\n",
    "    for idx_time in range(LEN_TIME):    \n",
    "        input_esn[:, 0] = input_train_shuffle[idx_batch, idx_time, :]\n",
    "        for idx_leak in range(SIZE_LEAK):\n",
    "            deep_esn[idx_leak][0].activate(input_esn[:, :])\n",
    "            for idx_depth in range(1, DEPTH_ESN):\n",
    "                deep_esn[idx_leak][idx_depth].activate( \\\n",
    "                    deep_esn[idx_leak][idx_depth-1].state_reservoir[:])\n",
    "\n",
    "    for idx_leak in range(SIZE_LEAK):\n",
    "        for idx_depth in range(DEPTH_ESN):\n",
    "            log_deep_esn_train_shuffle \\\n",
    "                [idx_leak, idx_batch, idx_depth*SIZE_RESERVOIR:(idx_depth+1)*SIZE_RESERVOIR]  \\\n",
    "                = deep_esn[idx_leak][idx_depth].state_reservoir[:]\n",
    "            # reset reservoir state among time steps\n",
    "            deep_esn[idx_leak][idx_depth].reset_reservoir_state()"
   ]
  },
  {
   "cell_type": "code",
   "execution_count": null,
   "metadata": {},
   "outputs": [],
   "source": [
    "print('End calculating of the train')\n",
    "time_end = time.time()\n",
    "print('{:.1f}'.format((time_end-time_init)/60), 'min')"
   ]
  },
  {
   "cell_type": "code",
   "execution_count": null,
   "metadata": {},
   "outputs": [],
   "source": [
    "np.save('data/deep_esn_lorenz_320/log_deep_esn_train_shuffle.npy', log_deep_esn_train_shuffle)"
   ]
  },
  {
   "cell_type": "code",
   "execution_count": null,
   "metadata": {},
   "outputs": [],
   "source": [
    "time_init = time.time()\n",
    "SIZE_VALID = len(input_valid[:])\n",
    "log_deep_esn_valid = np.zeros((SIZE_LEAK, SIZE_VALID, SIZE_RESERVOIR*DEPTH_ESN))"
   ]
  },
  {
   "cell_type": "code",
   "execution_count": null,
   "metadata": {},
   "outputs": [],
   "source": [
    "for idx_batch in range(SIZE_VALID):\n",
    "    if idx_batch%500 == 0:\n",
    "        print('idx_batch:', idx_batch)\n",
    "        time_end = time.time()\n",
    "        print('{:.1f}'.format((time_end-time_init)/60), 'min')\n",
    "\n",
    "    for idx_time in range(LEN_TIME):    \n",
    "        input_esn[:, 0] = input_valid[idx_batch, idx_time, :]\n",
    "        for idx_leak in range(SIZE_LEAK):\n",
    "            deep_esn[idx_leak][0].activate(input_esn[:, :])\n",
    "            for idx_depth in range(1, DEPTH_ESN):\n",
    "                deep_esn[idx_leak][idx_depth].activate( \\\n",
    "                    deep_esn[idx_leak][idx_depth-1].state_reservoir[:])\n",
    "\n",
    "    for idx_leak in range(SIZE_LEAK):\n",
    "        for idx_depth in range(DEPTH_ESN):\n",
    "            log_deep_esn_train_shuffle \\\n",
    "                [idx_leak, idx_batch, idx_depth*SIZE_RESERVOIR:(idx_depth+1)*SIZE_RESERVOIR]  \\\n",
    "                = deep_esn[idx_leak][idx_depth].state_reservoir[:]\n",
    "            # reset reservoir state among time steps\n",
    "            deep_esn[idx_leak][idx_depth].reset_reservoir_state()"
   ]
  },
  {
   "cell_type": "code",
   "execution_count": null,
   "metadata": {},
   "outputs": [],
   "source": [
    "print('End calculating of the validation')\n",
    "time_end = time.time()\n",
    "print('{:.1f}'.format((time_end-time_init)/60), 'min')"
   ]
  },
  {
   "cell_type": "code",
   "execution_count": null,
   "metadata": {},
   "outputs": [],
   "source": [
    "np.save('data/deep_esn_lorenz_320/log_deep_esn_valid.npy', log_deep_esn_valid)"
   ]
  },
  {
   "cell_type": "code",
   "execution_count": null,
   "metadata": {},
   "outputs": [],
   "source": [
    "time_init = time.time()\n",
    "SIZE_TEST = len(input_test[:])\n",
    "log_deep_esn_test = np.zeros((SIZE_LEAK, SIZE_TEST, SIZE_RESERVOIR*DEPTH_ESN))"
   ]
  },
  {
   "cell_type": "code",
   "execution_count": null,
   "metadata": {
    "scrolled": true
   },
   "outputs": [],
   "source": [
    "for idx_batch in range(SIZE_TEST):\n",
    "    if idx_batch%500 == 0:\n",
    "        print('idx_batch:', idx_batch)\n",
    "        time_end = time.time()\n",
    "        print('{:.1f}'.format((time_end-time_init)/60), 'min')\n",
    "\n",
    "    for idx_time in range(LEN_TIME):    \n",
    "        input_esn[:, 0] = input_test[idx_batch, idx_time, :]\n",
    "        for idx_leak in range(SIZE_LEAK):\n",
    "            deep_esn[idx_leak][0].activate(input_esn[:, :])\n",
    "            for idx_depth in range(1, DEPTH_ESN):\n",
    "                deep_esn[idx_leak][idx_depth].activate( \\\n",
    "                    deep_esn[idx_leak][idx_depth-1].state_reservoir[:])\n",
    "\n",
    "    for idx_leak in range(SIZE_LEAK):\n",
    "        for idx_depth in range(DEPTH_ESN):\n",
    "            log_deep_esn_train_shuffle \\\n",
    "                [idx_leak, idx_batch, idx_depth*SIZE_RESERVOIR:(idx_depth+1)*SIZE_RESERVOIR]  \\\n",
    "                = deep_esn[idx_leak][idx_depth].state_reservoir[:]\n",
    "            # reset reservoir state among time steps\n",
    "            deep_esn[idx_leak][idx_depth].reset_reservoir_state()"
   ]
  },
  {
   "cell_type": "code",
   "execution_count": null,
   "metadata": {},
   "outputs": [],
   "source": [
    "print('End calculating of the test')\n",
    "time_end = time.time()\n",
    "print('{:.1f}'.format((time_end-time_init)/60), 'min')"
   ]
  },
  {
   "cell_type": "code",
   "execution_count": null,
   "metadata": {},
   "outputs": [],
   "source": [
    "np.save('data/deep_esn_lorenz_320/log_deep_esn_test.npy', log_deep_esn_test)"
   ]
  },
  {
   "cell_type": "code",
   "execution_count": null,
   "metadata": {},
   "outputs": [],
   "source": []
  }
 ],
 "metadata": {
  "kernelspec": {
   "display_name": "Python 3",
   "language": "python",
   "name": "python3"
  },
  "language_info": {
   "codemirror_mode": {
    "name": "ipython",
    "version": 3
   },
   "file_extension": ".py",
   "mimetype": "text/x-python",
   "name": "python",
   "nbconvert_exporter": "python",
   "pygments_lexer": "ipython3",
   "version": "3.7.5"
  }
 },
 "nbformat": 4,
 "nbformat_minor": 2
}
